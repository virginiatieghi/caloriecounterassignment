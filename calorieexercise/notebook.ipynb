{
 "cells": [
  {
   "cell_type": "code",
   "execution_count": 5,
   "metadata": {},
   "outputs": [
    {
     "ename": "ImportError",
     "evalue": "cannot import name 'calories_counter_with_exception' from partially initialized module 'functions' (most likely due to a circular import) (/Users/virginiatieghi/Documents/GitHub/calorieexercise/functions.py)",
     "output_type": "error",
     "traceback": [
      "\u001b[0;31m---------------------------------------------------------------------------\u001b[0m",
      "\u001b[0;31mImportError\u001b[0m                               Traceback (most recent call last)",
      "Cell \u001b[0;32mIn[5], line 1\u001b[0m\n\u001b[0;32m----> 1\u001b[0m \u001b[39mfrom\u001b[39;00m \u001b[39mfunctions\u001b[39;00m \u001b[39mimport\u001b[39;00m calorie_counter\n",
      "File \u001b[0;32m~/Documents/GitHub/calorieexercise/functions.py:3\u001b[0m\n\u001b[1;32m      2\u001b[0m \u001b[39mfrom\u001b[39;00m \u001b[39mconstants\u001b[39;00m \u001b[39mimport\u001b[39;00m calories, combos\n\u001b[0;32m----> 3\u001b[0m \u001b[39mfrom\u001b[39;00m \u001b[39mclasses\u001b[39;00m \u001b[39mimport\u001b[39;00m MealTooBigError \n\u001b[1;32m      5\u001b[0m \u001b[39mdef\u001b[39;00m \u001b[39mcalorie_counter\u001b[39m(order):\n\u001b[1;32m      6\u001b[0m     total_calories\u001b[39m=\u001b[39m\u001b[39m0\u001b[39m\n",
      "File \u001b[0;32m~/Documents/GitHub/calorieexercise/classes.py:3\u001b[0m\n\u001b[1;32m      2\u001b[0m \u001b[39mfrom\u001b[39;00m \u001b[39mexceptions\u001b[39;00m \u001b[39mimport\u001b[39;00m MealTooBigError\n\u001b[0;32m----> 3\u001b[0m \u001b[39mfrom\u001b[39;00m \u001b[39mfunctions\u001b[39;00m \u001b[39mimport\u001b[39;00m calories_counter_with_exception\n\u001b[1;32m      7\u001b[0m \u001b[39mclass\u001b[39;00m \u001b[39mOrder\u001b[39;00m:\n\u001b[1;32m      8\u001b[0m \u001b[39m    \u001b[39m\u001b[39m\"\"\"\u001b[39;00m\n\u001b[1;32m      9\u001b[0m \u001b[39m    This class represents an order.\u001b[39;00m\n\u001b[1;32m     10\u001b[0m \n\u001b[0;32m   (...)\u001b[0m\n\u001b[1;32m     27\u001b[0m \u001b[39m        price (int): The total price for the order.\u001b[39;00m\n\u001b[1;32m     28\u001b[0m \u001b[39m    \"\"\"\u001b[39;00m\n",
      "\u001b[0;31mImportError\u001b[0m: cannot import name 'calories_counter_with_exception' from partially initialized module 'functions' (most likely due to a circular import) (/Users/virginiatieghi/Documents/GitHub/calorieexercise/functions.py)"
     ]
    }
   ],
   "source": [
    "from functions import calorie_counter"
   ]
  },
  {
   "cell_type": "code",
   "execution_count": 19,
   "metadata": {},
   "outputs": [],
   "source": [
    "from constants import calories, combos"
   ]
  },
  {
   "cell_type": "code",
   "execution_count": 10,
   "metadata": {},
   "outputs": [
    {
     "name": "stdout",
     "output_type": "stream",
     "text": [
      "('Cheese Burger',)\n",
      "750\n"
     ]
    }
   ],
   "source": [
    "order = (\"Cheese Burger\",)\n",
    "print(order)\n",
    "total_calories = calorie_counter(order)\n",
    "print(total_calories)"
   ]
  },
  {
   "cell_type": "code",
   "execution_count": 12,
   "metadata": {},
   "outputs": [
    {
     "name": "stdout",
     "output_type": "stream",
     "text": [
      "{'meals': [{'id': 'meal-1', 'name': 'hamburger', 'calories': 600, 'price': 5}, {'id': 'meal-2', 'name': 'cheese burger', 'calories': 750, 'price': 7}, {'id': 'meal-3', 'name': 'veggie burger', 'calories': 400, 'price': 6}, {'id': 'meal-4', 'name': 'vegan burger', 'calories': 350, 'price': 6}, {'id': 'meal-5', 'name': 'sweet potatoes', 'calories': 230, 'price': 3}, {'id': 'meal-6', 'name': 'salad', 'calories': 15, 'price': 4}, {'id': 'meal-7', 'name': 'iced tea', 'calories': 70, 'price': 2}, {'id': 'meal-8', 'name': 'lemonade', 'calories': 90, 'price': 2}]}\n",
      "{'meals': [{'id': 'meal-1', 'name': 'hamburger', 'calories': 600, 'price': 5}, {'id': 'meal-2', 'name': 'cheese burger', 'calories': 750, 'price': 7}, {'id': 'meal-3', 'name': 'veggie burger', 'calories': 400, 'price': 6}, {'id': 'meal-4', 'name': 'vegan burger', 'calories': 350, 'price': 6}, {'id': 'meal-5', 'name': 'sweet potatoes', 'calories': 230, 'price': 3}, {'id': 'meal-6', 'name': 'salad', 'calories': 15, 'price': 4}, {'id': 'meal-7', 'name': 'iced tea', 'calories': 70, 'price': 2}, {'id': 'meal-8', 'name': 'lemonade', 'calories': 90, 'price': 2}]}\n"
     ]
    }
   ],
   "source": [
    "import json\n",
    "\n",
    "with open(\"data/meals.json\") as file:\n",
    "\tmeals = json.load(file)\n",
    "\n",
    "print(meals)\n",
    "\n",
    "import json\n",
    "\n",
    "file = open(\"data/meals.json\")\n",
    "meals = json.load(file)\n",
    "file.close()\n",
    "\n",
    "print(meals)"
   ]
  },
  {
   "cell_type": "code",
   "execution_count": 4,
   "metadata": {},
   "outputs": [],
   "source": [
    "import datetime\n",
    "\n",
    "class Order:\n",
    "    \"\"\"\n",
    "    This class represents an order.\n",
    "\n",
    "    Arguments:\n",
    "        items (list): A list of item ids.\n",
    "        date (datetime): The date and time of the order.\n",
    "\n",
    "    Class attributes:\n",
    "        counter (int): A counter for the number of orders.\n",
    "\n",
    "    Attributes:\n",
    "        order_id (str): A unique identifier for the order.\n",
    "        order_accepted (bool): Whether or not the order was accepted.\n",
    "        order_refused_reason (str): The reason the order was refused.\n",
    "        date (datetime): The date and time of the order.\n",
    "        items (list): A list of item ids.\n",
    "\n",
    "    Properties:\n",
    "        calories (int): The total calories for the order.\n",
    "        price (int): The total price for the order.\n",
    "    \"\"\"\n",
    "    counter = 0\n",
    "\n",
    "    def __init__(self, items, date=None):\n",
    "        Order.counter += 1\n",
    "        self.order_id = f\"order-{Order.counter}\"\n",
    "        self.order_accepted = True \n",
    "        self.order_refused_reason = None\n",
    "        self.date = date if date else datetime.datetime.now()\n",
    "        self.items = items\n",
    "        \n",
    "    def calories(self):\n",
    "        total_calories = 0\n",
    "        for item in self.items:\n",
    "            if item in meals:\n",
    "                total_calories += meals[item][\"calories\"]\n",
    "            elif item in combos:\n",
    "                combo_items = combos[item][\"meals\"]\n",
    "                total_calories += sum(meals[meal][\"calories\"] for meal in combo_items)\n",
    "        return total_calories\n",
    "    \n",
    "    @property \n",
    "    def price(self):\n",
    "        total_price = 0\n",
    "        for item in self.items:\n",
    "            if item in meals:\n",
    "                total_price += meals[item][\"price\"]\n",
    "            elif item in combos:\n",
    "                total_price += combos[item][\"price\"]\n",
    "        return total_price\n",
    "    \n",
    "    @property   \n",
    "    def check_order_acceptance(self):\n",
    "        if self.calories > 2000:\n",
    "            self.order_accepted = False\n",
    "            self.order_refused_reason = \"Total calories exceed 2000.\"\n",
    "        else:\n",
    "            for item in self.items:\n",
    "                if item not in meals and item not in combos:\n",
    "                    self.order_accepted = False\n",
    "                    self.order_refused_reason = f\"Unknown item '{item}' in the order.\"\n",
    "                    break\n",
    "\n",
    "import json\n",
    "\n",
    "with open(\"data/meals.json\") as file:\n",
    "\tmeals = json.load(file)\n",
    "\n",
    "import json\n",
    "\n",
    "with open(\"data/combos.json\") as file:\n",
    "\tcombos = json.load(file)\n",
    "\n"
   ]
  },
  {
   "cell_type": "code",
   "execution_count": null,
   "metadata": {},
   "outputs": [],
   "source": []
  },
  {
   "cell_type": "code",
   "execution_count": 24,
   "metadata": {},
   "outputs": [
    {
     "name": "stdout",
     "output_type": "stream",
     "text": [
      "2023-09-26 14:40:59.161896\n"
     ]
    }
   ],
   "source": [
    "import datetime\n",
    " \n",
    "print(datetime.datetime.now())"
   ]
  },
  {
   "cell_type": "code",
   "execution_count": 19,
   "metadata": {},
   "outputs": [
    {
     "name": "stdout",
     "output_type": "stream",
     "text": [
      "2023-09-26 14:38:45.290016\n"
     ]
    }
   ],
   "source": [
    "import datetime\n",
    "\n",
    "x = datetime.datetime.now()\n",
    "print(x)"
   ]
  },
  {
   "cell_type": "code",
   "execution_count": 17,
   "metadata": {},
   "outputs": [
    {
     "name": "stdout",
     "output_type": "stream",
     "text": [
      "{'combos': [{'id': 'combo-1', 'name': 'cheesy combo', 'meals': ['meal-2', 'meal-5', 'meal-8'], 'price': 11}, {'id': 'combo-2', 'name': 'veggie combo', 'meals': ['meal-3', 'meal-5', 'meal-7'], 'price': 10}, {'id': 'combo-3', 'name': 'vegan combo', 'meals': ['meal-4', 'meal-6', 'meal-8'], 'price': 10}]}\n"
     ]
    }
   ],
   "source": [
    "import json\n",
    "\n",
    "with open(\"data/combos.json\") as file:\n",
    "\tcombos = json.load(file)\n",
    "\n",
    "print(combos)"
   ]
  },
  {
   "cell_type": "code",
   "execution_count": 3,
   "metadata": {},
   "outputs": [],
   "source": [
    "\n",
    "\n",
    "from constants import meals_dict\n",
    "from constants import combos_dict\n",
    "\n",
    "\n",
    "class MealTooBigError(Exception):\n",
    "    \"\"\"\n",
    "    Raises an error if the input order contains more  than 2000 calories.\n",
    "    \"\"\"\n",
    "    def __init__(self, calories):\n",
    "        self.calories = calories\n",
    "        self.message = f\"Your meal is too big! {calories}  calories is too much!\"\n",
    "        super().__init__(self.message)\n",
    "\n",
    "from exceptions import MealTooBigError \n",
    "class Order:\n",
    "    \"\"\"\n",
    "    This class represents an order.\n",
    "\n",
    "    Arguments:\n",
    "        items (list): A list of item ids.\n",
    "        date (datetime): The date and time of the order.\n",
    "\n",
    "    Class attributes:\n",
    "        counter (int): A counter for the number of orders.\n",
    "\n",
    "    Attributes:\n",
    "        order_id (str): A unique identifier for the order.\n",
    "        order_accepted (bool): Whether or not the order was accepted.\n",
    "        order_refused_reason (str): The reason the order was refused.\n",
    "        date (datetime): The date and time of the order.\n",
    "        items (list): A list of item ids.\n",
    "\n",
    "    Properties:\n",
    "        calories (int): The total calories for the order.\n",
    "        price (int): The total price for the order.\n",
    "    \"\"\"\n",
    "    counter = 0\n",
    "\n",
    "    def __init__(self, items, date=None):\n",
    "        Order.counter += 1\n",
    "        self.order_id = Order.counter\n",
    "        self.order_accepted = True\n",
    "        self.order_refused_reason = ''\n",
    "        self.date = date\n",
    "        self.items = items\n",
    "        calories = self.calories\n",
    "        if calories > 2000:\n",
    "            raise MealTooBigError(calories)\n",
    "        \n",
    "\n",
    "        \n"
   ]
  }
 ],
 "metadata": {
  "kernelspec": {
   "display_name": "Python 3",
   "language": "python",
   "name": "python3"
  },
  "language_info": {
   "codemirror_mode": {
    "name": "ipython",
    "version": 3
   },
   "file_extension": ".py",
   "mimetype": "text/x-python",
   "name": "python",
   "nbconvert_exporter": "python",
   "pygments_lexer": "ipython3",
   "version": "3.11.5"
  },
  "orig_nbformat": 4
 },
 "nbformat": 4,
 "nbformat_minor": 2
}
